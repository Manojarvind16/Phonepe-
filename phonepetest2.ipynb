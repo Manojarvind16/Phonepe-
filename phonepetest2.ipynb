{
 "cells": [
  {
   "cell_type": "code",
   "execution_count": 1,
   "metadata": {},
   "outputs": [],
   "source": [
    "import pandas as pd\n",
    "import psycopg2\n",
    "import plotly.express as px\n",
    "import requests\n",
    "import json"
   ]
  },
  {
   "cell_type": "code",
   "execution_count": 82,
   "metadata": {},
   "outputs": [],
   "source": [
    "#Dataframe creation\n",
    "\n",
    "#sql connection\n",
    "mydb = psycopg2.connect(\n",
    "                        host=\"localhost\",\n",
    "                        user=\"postgres\",\n",
    "                        password=\"Kiprthmass2170.\",\n",
    "                        port=\"5432\",\n",
    "                        database=\"phonepe_data\"\n",
    "                    )\n",
    "\n",
    "cursor=mydb.cursor()\n",
    "\n",
    "#aggre_transaction_df\n",
    "cursor.execute(\"SELECT * FROM aggregated_transaction\")\n",
    "mydb.commit()\n",
    "table2= cursor.fetchall()\n",
    "\n",
    "Aggre_transaction= pd.DataFrame(table2, columns=(\"States\", \"Years\", \"Quater\", \"Transaction_type\",\n",
    "                                               \"Transaction_count\", \"Transaction_amount\"))\n",
    "\n",
    "#aggre_user_df\n",
    "cursor.execute(\"SELECT * FROM aggregated_user\")\n",
    "mydb.commit()\n",
    "table3= cursor.fetchall()\n",
    "\n",
    "Aggre_user= pd.DataFrame(table3, columns=(\"States\", \"Years\", \"Quater\", \"Brands\",\n",
    "                                               \"Transaction_count\", \"Percentage\"))\n",
    "\n",
    "#map_transction\n",
    "cursor.execute(\"SELECT * FROM map_transaction\")\n",
    "mydb.commit()\n",
    "table5= cursor.fetchall()\n",
    "\n",
    "map_transaction= pd.DataFrame(table5, columns=(\"States\", \"Years\", \"Quater\", \"Districts\",\n",
    "                                                        \"Transaction_count\", \"Transaction_amount\"))\n",
    "\n",
    "#map_user\n",
    "cursor.execute(\"SELECT * FROM map_user\")\n",
    "mydb.commit()\n",
    "table6= cursor.fetchall()\n",
    "\n",
    "map_user= pd.DataFrame(table6, columns=(\"States\", \"Years\", \"Quater\", \"Districts\",\n",
    "                                               \"RegisteredUser\", \"AppOpens\"))\n",
    "\n",
    "#top_transaction\n",
    "cursor.execute(\"SELECT * FROM top_transaction\")\n",
    "mydb.commit()\n",
    "table8= cursor.fetchall()\n",
    "\n",
    "top_transaction= pd.DataFrame(table8, columns=(\"States\", \"Years\", \"Quater\", \"Pincodes\",\n",
    "                                               \"Transaction_count\", \"Transaction_amount\"))\n",
    "\n",
    "#top_user\n",
    "cursor.execute(\"SELECT * FROM top_user\")\n",
    "mydb.commit()\n",
    "table9= cursor.fetchall()\n",
    "\n",
    "top_user= pd.DataFrame(table9, columns=(\"States\", \"Years\", \"Quater\", \"Pincodes\",\n",
    "                                               \"RegisteredUsers\"))\n"
   ]
  },
  {
   "cell_type": "code",
   "execution_count": 3,
   "metadata": {},
   "outputs": [],
   "source": [
    "#Transaction year based\n",
    "\n",
    "def Transaction_amount_count_Year(df,year):\n",
    "\n",
    "    tacy=df[df[\"Years\"] == year]\n",
    "    tacy.reset_index(drop=True, inplace=True)\n",
    "\n",
    "    tacyg= tacy.groupby(\"States\")[[\"Transaction_count\",\"Transaction_amount\"]].sum()\n",
    "    tacyg.reset_index(inplace= True)\n",
    "\n",
    "    fig_amount= px.bar(tacyg, x= \"States\" , y=\"Transaction_amount\",title=f\"{year}  TRANSACTION AMOUNT\",\n",
    "                        color_discrete_sequence=px.colors.sequential.Bluered_r)\n",
    "    fig_amount.show()\n",
    "\n",
    "    fig_count= px.bar(tacyg, x= \"States\" , y=\"Transaction_count\",title=f\"{year}  TRANSACTION COUNT\",\n",
    "                        color_discrete_sequence=px.colors.sequential.Aggrnyl)\n",
    "    fig_count.show()\n",
    "\n",
    "    url= \"https://gist.githubusercontent.com/jbrobst/56c13bbbf9d97d187fea01ca62ea5112/raw/e388c4cae20aa53cb5090210a42ebb9b765c0a36/india_states.geojson\"\n",
    "    response= requests.get(url)\n",
    "    data1= json.loads(response.content)\n",
    "    states_name= []\n",
    "    for feature in data1[\"features\"]:\n",
    "        states_name.append(feature[\"properties\"][\"ST_NM\"])\n",
    "\n",
    "    states_name.sort()\n",
    "\n",
    "    fig_india_1= px.choropleth(tacyg, geojson= data1, locations= \"States\", featureidkey= \"properties.ST_NM\",\n",
    "                            color= \"Transaction_amount\", color_continuous_scale= \"turbo\",\n",
    "                            range_color= (tacyg[\"Transaction_amount\"].min(), tacyg[\"Transaction_amount\"].max()),\n",
    "                            hover_name= \"States\", title= f\"{year} TRANSACTION AMOUNT\", fitbounds= \"locations\",\n",
    "                            height= 600,width= 600)\n",
    "    fig_india_1.update_geos(visible= False)\n",
    "    fig_india_1.show()   \n",
    "\n",
    "    fig_india_2= px.choropleth(tacyg, geojson= data1, locations= \"States\", featureidkey= \"properties.ST_NM\",\n",
    "                            color= \"Transaction_count\", color_continuous_scale= \"turbo\",\n",
    "                            range_color= (tacyg[\"Transaction_count\"].min(), tacyg[\"Transaction_count\"].max()),\n",
    "                            hover_name= \"States\", title= f\"{year} TRANSACTION COUNT\", fitbounds= \"locations\",\n",
    "                            height= 600,width= 600)\n",
    "    fig_india_2.update_geos(visible= False)\n",
    "    fig_india_2.show()                    \n",
    "\n",
    "    return tacy"
   ]
  },
  {
   "cell_type": "code",
   "execution_count": 206,
   "metadata": {},
   "outputs": [],
   "source": [
    "def Transaction_amount_count_Year_Quater(df,quater):\n",
    "\n",
    "    tacy=df[df[\"Quater\"] == quater]\n",
    "    tacy.reset_index(drop=True, inplace=True)\n",
    "\n",
    "    tacyg= tacy.groupby(\"States\")[[\"Transaction_count\",\"Transaction_amount\"]].sum()\n",
    "    tacyg.reset_index(inplace= True)\n",
    "\n",
    "    \n",
    "    fig_amount= px.bar(tacyg, x= \"States\" , y=\"Transaction_amount\",title=f\"{tacy['Years'].min()} YEAR {quater} QUATER TRANSACTION AMOUNT\",\n",
    "                        color_discrete_sequence=px.colors.sequential.Bluered_r)\n",
    "    fig_amount.show()\n",
    "\n",
    "    \n",
    "   \n",
    "\n",
    "    fig_count= px.bar(tacyg, x= \"States\" , y=\"Transaction_count\",title=f\"{tacy['Years'].min()} YEAR {quater} QUATER  TRANSACTION COUNT\",\n",
    "                        color_discrete_sequence=px.colors.sequential.Aggrnyl)\n",
    "    fig_count.show()\n",
    "\n",
    "\n",
    "    url= \"https://gist.githubusercontent.com/jbrobst/56c13bbbf9d97d187fea01ca62ea5112/raw/e388c4cae20aa53cb5090210a42ebb9b765c0a36/india_states.geojson\"\n",
    "    response= requests.get(url)\n",
    "    data1= json.loads(response.content)\n",
    "    states_name= []\n",
    "    for feature in data1[\"features\"]:\n",
    "        states_name.append(feature[\"properties\"][\"ST_NM\"])\n",
    "\n",
    "    states_name.sort()\n",
    "\n",
    "    fig_india_1= px.choropleth(tacyg, geojson= data1, locations= \"States\", featureidkey= \"properties.ST_NM\",\n",
    "                            color= \"Transaction_amount\", color_continuous_scale= \"turbo\",\n",
    "                            range_color= (tacyg[\"Transaction_amount\"].min(), tacyg[\"Transaction_amount\"].max()),\n",
    "                            hover_name= \"States\", title= f\"{tacy['Years'].min()} YEAR {quater} QUATER TRANSACTION AMOUNT\", fitbounds= \"locations\",\n",
    "                            height= 600,width= 600)\n",
    "    fig_india_1.update_geos(visible= False)\n",
    "    fig_india_1.show()\n",
    "\n",
    "    \n",
    "    \n",
    "    fig_india_2= px.choropleth(tacyg, geojson= data1, locations= \"States\", featureidkey= \"properties.ST_NM\",\n",
    "                            color= \"Transaction_count\", color_continuous_scale= \"turbo\",\n",
    "                            range_color= (tacyg[\"Transaction_count\"].min(), tacyg[\"Transaction_count\"].max()),\n",
    "                            hover_name= \"States\", title= f\"{tacy['Years'].min()} YEAR {quater} QUATER TRANSACTION COUNT\", fitbounds= \"locations\",\n",
    "                            height= 600,width= 600)\n",
    "    fig_india_2.update_geos(visible= False)\n",
    "    fig_india_2.show()      \n",
    "\n",
    "    return tacy        "
   ]
  },
  {
   "cell_type": "code",
   "execution_count": 5,
   "metadata": {},
   "outputs": [],
   "source": [
    "#Transaction based\n",
    "def Aggre_Trans_type(df,state):\n",
    "\n",
    "    tacy= df[df[\"States\"] == state]\n",
    "    tacy.reset_index(drop=True, inplace=True)\n",
    "\n",
    "    tacyg= tacy.groupby(\"Transaction_type\")[[\"Transaction_count\",\"Transaction_amount\"]].sum()\n",
    "    tacyg.reset_index(inplace= True)\n",
    "\n",
    "    fig_pie_chart1= px.pie(data_frame= tacyg, names=\"Transaction_type\", values=\"Transaction_amount\", width=600, title=f\"{state.upper()}  TRANSACTION AMOUNT\")\n",
    "    fig_pie_chart1.show()\n",
    "\n",
    "    fig_pie_chart2= px.pie(data_frame= tacyg, names=\"Transaction_type\", values=\"Transaction_count\", width=600, title=f\"{state.upper()}  TRANSACTION COUNT\")\n",
    "    fig_pie_chart2.show()"
   ]
  },
  {
   "cell_type": "code",
   "execution_count": 6,
   "metadata": {},
   "outputs": [],
   "source": [
    "#Aggre_user_analysis1 year\n",
    "def Aggre_user_plot1(df,year):\n",
    "    auy =df[df[\"Years\"] ==year]\n",
    "    auy.reset_index(drop=True, inplace=True)\n",
    "\n",
    "    auyg= pd.DataFrame(auy.groupby(\"Brands\")[\"Transaction_count\"].sum())\n",
    "    auyg.reset_index(inplace=True)\n",
    "\n",
    "    fig_bar_1=px.bar(auyg, x= \"Brands\" , y= \"Transaction_count\", title=\"BRANDS AND TRANSACTION COUNT\",\n",
    "                        width=1000, color_discrete_sequence= px.colors.sequential.haline_r)\n",
    "\n",
    "    fig_bar_1.show()\n",
    "\n",
    "    return auy"
   ]
  },
  {
   "cell_type": "code",
   "execution_count": 205,
   "metadata": {},
   "outputs": [],
   "source": [
    "#Aggre_user_analysis2 quater\n",
    "def Aggre_user_plot2(df,quater):\n",
    "    auy_quater =df[df[\"Quater\"] ==quater]\n",
    "    auy_quater.reset_index(drop=True, inplace=True)\n",
    "\n",
    "    auy_quater_g= pd.DataFrame(auy_quater.groupby(\"Brands\")[\"Transaction_count\"].sum())\n",
    "    auy_quater_g.reset_index(inplace=True)\n",
    "\n",
    "    fig_bar_2=px.bar(auy_quater_g, x= \"Brands\" , y= \"Transaction_count\", title=f\"{quater}   BRANDS AND TRANSACTION COUNT\",\n",
    "                        width=1000, color_discrete_sequence= px.colors.sequential.Plasma_r)\n",
    "\n",
    "    fig_bar_2.show()\n",
    "\n",
    "    return auy_quater"
   ]
  },
  {
   "cell_type": "code",
   "execution_count": 128,
   "metadata": {},
   "outputs": [],
   "source": [
    "#Aggre_user_analysis3 state\n",
    "def Aggre_user_plot3(df, state):\n",
    "    aupqs = df[df[\"States\"] == state]\n",
    "    aupqs.reset_index(drop=True, inplace=True)\n",
    "\n",
    "    aupqsg= pd.DataFrame(aupqs.groupby(\"Brands\")[\"Transaction_count\"].sum())\n",
    "    aupqsg.reset_index(inplace=True)\n",
    "\n",
    "    fig_pie_3=px.pie(data_frame= aupqs ,names= \"Brands\", values= \"Transaction_count\", hover_data = \"Percentage\",\n",
    "                        title= f\"{state.upper()}'S   BRANDS BY TRANSACTION COUNT AND PERCENTAGE\", height=600, width=850,\n",
    "                        color_discrete_sequence= px.colors.sequential.Plasma_r)\n",
    "\n",
    "    fig_pie_3.show()\n",
    "\n",
    "    return aupqs"
   ]
  },
  {
   "cell_type": "code",
   "execution_count": 104,
   "metadata": {},
   "outputs": [],
   "source": [
    "#Map Transaction Type\n",
    "def Map_Tran_state(df,state):\n",
    "\n",
    "    tacy= df[df[\"States\"] == state]\n",
    "    tacy.reset_index(drop=True, inplace=True)\n",
    "    \n",
    "    tacyg= tacy.groupby(\"Districts\")[[\"Transaction_count\",\"Transaction_amount\"]].sum()\n",
    "    tacyg.reset_index(inplace= True)\n",
    "\n",
    "    fig_bar_chart1= px.bar(tacyg, x=\"Transaction_amount\", y=\"Districts\",orientation=\"h\",title=\"DISTRICT AND TRANSACTION AMOUNT\",color_discrete_sequence= px.colors.sequential.Mint_r )\n",
    "    fig_bar_chart1.show()\n",
    "\n",
    "    fig_bar_chart2= px.bar(tacyg, x=\"Transaction_count\", y=\"Districts\",orientation=\"h\",title=\"DISTRICT AND TRANSACTION COUNT\",color_discrete_sequence= px.colors.sequential.Bluered )\n",
    "    fig_bar_chart2.show()\n",
    "\n",
    "    return tacy"
   ]
  },
  {
   "cell_type": "code",
   "execution_count": null,
   "metadata": {},
   "outputs": [],
   "source": [
    "# Map User Plot 1\n",
    "def Map_user_plot1(df,year):\n",
    "    muy =df[df[\"Years\"] ==year]\n",
    "    muy.reset_index(drop=True, inplace=True)\n",
    "\n",
    "    muyg= pd.DataFrame(muy.groupby(\"States\")[[\"RegisteredUser\",\"AppOpens\"]].sum())\n",
    "    muyg.reset_index(inplace=True)\n",
    "\n",
    "    fig_line_1=px.line(data_frame= muyg ,x= \"States\", y= [\"RegisteredUser\",\"AppOpens\"],\n",
    "                        title= f\"{year}'S    REGISTERED USER AND APPOPENS\", height=600, width=850, markers= True)\n",
    "                        \n",
    "\n",
    "    fig_line_1.show()\n",
    "\n",
    "    return muy"
   ]
  },
  {
   "cell_type": "code",
   "execution_count": 174,
   "metadata": {},
   "outputs": [],
   "source": [
    "# Map User Plot 2\n",
    "def Map_user_plot2(df,quater):\n",
    "    muyq =df[df[\"Quater\"] == quater]\n",
    "    muyq.reset_index(drop=True, inplace=True)\n",
    "\n",
    "    muyqg= pd.DataFrame(muyq.groupby(\"States\")[[\"RegisteredUser\",\"AppOpens\"]].sum())\n",
    "    muyqg.reset_index(inplace=True)\n",
    "\n",
    "    fig_line_1=px.line(data_frame= muyqg ,x= \"States\", y= [\"RegisteredUser\",\"AppOpens\"],\n",
    "                        title= f\"{df['Years'].min()}'S  {quater}  QUATER'S  REGISTERED USER AND APPOPENS\", height=600, width=850, markers= True,\n",
    "                    color_discrete_sequence=px.colors.sequential.Rainbow_r)\n",
    "                        \n",
    "\n",
    "    fig_line_1.show()\n",
    "\n",
    "    return muyq\n"
   ]
  },
  {
   "cell_type": "code",
   "execution_count": 190,
   "metadata": {},
   "outputs": [],
   "source": [
    "# Map User Plot 3\n",
    "def Map_user_plot3(df,state):\n",
    "\n",
    "    muyqs =df[df[\"States\"] == state]\n",
    "    muyqs.reset_index(drop=True, inplace=True)\n",
    "\n",
    "    fig_map_bar_1 = px.bar(muyqs , x= \"RegisteredUser\", y= \"Districts\" , orientation=\"h\",\n",
    "                        title=f\"{state.upper()}'S  REGISTERED USER\", height=800, color_discrete_sequence=px.colors.sequential.Rainbow_r)\n",
    "\n",
    "    fig_map_bar_1.show()\n",
    "\n",
    "    fig_map_bar_2 = px.bar(muyqs , x= \"AppOpens\", y= \"Districts\" , orientation=\"h\",\n",
    "                        title=f\"{state.upper()}'S  APPOPENS\", height=800, color_discrete_sequence=px.colors.sequential.Rainbow)\n",
    "\n",
    "    fig_map_bar_2.show()"
   ]
  },
  {
   "cell_type": "code",
   "execution_count": 202,
   "metadata": {},
   "outputs": [],
   "source": [
    "# top_trans_plot_1\n",
    "\n",
    "def Top_trans_plot_1(df, state):\n",
    "\n",
    "    tiy= df[df[\"States\"]== state]\n",
    "    tiy.reset_index(drop= True, inplace= True)\n",
    "\n",
    "\n",
    "    fig_top_insur_bar_1= px.bar(tiy, x= \"Quater\", y= \"Transaction_amount\", hover_data= \"Pincodes\",\n",
    "                            title= \"TRANSACTION AMOUNT\", height= 650,width= 600, color_discrete_sequence= px.colors.sequential.GnBu_r)\n",
    "    fig_top_insur_bar_1.show()\n",
    "\n",
    "\n",
    "    fig_top_insur_bar_2= px.bar(tiy, x= \"Quater\", y= \"Transaction_count\", hover_data= \"Pincodes\",\n",
    "                            title= \"TRANSACTION COUNT\", height= 650,width= 600, color_discrete_sequence= px.colors.sequential.Agsunset_r)\n",
    "    fig_top_insur_bar_2.show()\n"
   ]
  },
  {
   "cell_type": "code",
   "execution_count": null,
   "metadata": {},
   "outputs": [],
   "source": [
    "# Top user plot 1\n",
    "def Top_user_plot_1(df, year):\n",
    "    Tuy= df[df[\"Years\"]== year]\n",
    "    Tuy.reset_index(drop= True, inplace= True)\n",
    "\n",
    "    Tuyg= pd.DataFrame(Tuy.groupby([\"States\", \"Quater\"])[\"RegisteredUsers\"].sum())\n",
    "    Tuyg.reset_index(inplace= True)\n",
    "\n",
    "    fig_top_plot_1= px.bar(Tuyg, x= \"States\", y= \"RegisteredUsers\", color= \"Quater\", width= 1000, height= 800,\n",
    "                        color_discrete_sequence= px.colors.sequential.algae, hover_name= \"States\",\n",
    "                        title= f\"{year} REGISTERED USERS\")\n",
    "    fig_top_plot_1.show()\n",
    "\n",
    "    return Tuy"
   ]
  },
  {
   "cell_type": "code",
   "execution_count": null,
   "metadata": {},
   "outputs": [],
   "source": [
    "# top user plot 2\n",
    "def top_user_plot_2(df, state):\n",
    "\n",
    "    tuys =df[df[\"States\"] == state]\n",
    "    tuys.reset_index(drop=True, inplace=True)\n",
    "\n",
    "    fig_top_plot_2= px.bar(tuys, x= \"Quater\", y= \"RegisteredUsers\", title= \"REGISTEREDUSERS, PINCODES, QUARTER\",\n",
    "                        width= 1000, height= 800, color= \"RegisteredUsers\", hover_data= \"Pincodes\",\n",
    "                        color_continuous_scale= px.colors.sequential.Magenta)\n",
    "    fig_top_plot_2.show()"
   ]
  },
  {
   "cell_type": "markdown",
   "metadata": {},
   "source": [
    "### Aggregated transaction"
   ]
  },
  {
   "cell_type": "code",
   "execution_count": null,
   "metadata": {},
   "outputs": [],
   "source": [
    "tac_Y=Transaction_amount_count_Year(Aggre_transaction,2021)"
   ]
  },
  {
   "cell_type": "code",
   "execution_count": null,
   "metadata": {},
   "outputs": [],
   "source": [
    "Aggre_Trans_type(tac_Y,\"Tamil Nadu\")"
   ]
  },
  {
   "cell_type": "code",
   "execution_count": null,
   "metadata": {},
   "outputs": [],
   "source": [
    "Tacyq=Transaction_amount_count_Year_Quater(tac_Y,3)"
   ]
  },
  {
   "cell_type": "code",
   "execution_count": null,
   "metadata": {},
   "outputs": [],
   "source": [
    "Aggre_Trans_type(Tacyq,\"Tamil Nadu\")"
   ]
  },
  {
   "cell_type": "code",
   "execution_count": 10,
   "metadata": {},
   "outputs": [],
   "source": [
    "#colors\n",
    "# 'tealrose', 'tempo', 'temps', 'thermal', 'tropic', 'turbid',\n",
    "#              'turbo', 'twilight', 'viridis', 'ylgn', 'ylgnbu', 'ylorbr',\n",
    "#              'ylorrd'"
   ]
  },
  {
   "cell_type": "markdown",
   "metadata": {},
   "source": [
    "### Aggregated User"
   ]
  },
  {
   "cell_type": "code",
   "execution_count": null,
   "metadata": {},
   "outputs": [],
   "source": [
    "Aggre_u_p=Aggre_user_plot1(Aggre_user,2021)"
   ]
  },
  {
   "cell_type": "code",
   "execution_count": null,
   "metadata": {},
   "outputs": [],
   "source": [
    "Aggre_u_p_Q = Aggre_user_plot2(Aggre_u_p,3)\n"
   ]
  },
  {
   "cell_type": "code",
   "execution_count": null,
   "metadata": {},
   "outputs": [],
   "source": [
    "=Aggre_user_plot3(Aggre_u_p_Q, \"West Bengal\")"
   ]
  },
  {
   "cell_type": "markdown",
   "metadata": {},
   "source": [
    "### map transaction"
   ]
  },
  {
   "cell_type": "code",
   "execution_count": null,
   "metadata": {},
   "outputs": [],
   "source": [
    "Map_tran_ac_year=Transaction_amount_count_Year(map_transaction,2021)"
   ]
  },
  {
   "cell_type": "code",
   "execution_count": null,
   "metadata": {},
   "outputs": [],
   "source": [
    "Map_Tran_state(Map_tran_ac_year,\"Tamil Nadu\")"
   ]
  },
  {
   "cell_type": "code",
   "execution_count": null,
   "metadata": {},
   "outputs": [],
   "source": [
    "Map_tran_ac_year_Q=Transaction_amount_count_Year_Quater(Map_tran_ac_year,3)"
   ]
  },
  {
   "cell_type": "code",
   "execution_count": null,
   "metadata": {},
   "outputs": [],
   "source": [
    "Map_Tran_state(Map_tran_ac_year_Q,\"Tamil Nadu\")"
   ]
  },
  {
   "cell_type": "markdown",
   "metadata": {},
   "source": [
    "### map user"
   ]
  },
  {
   "cell_type": "code",
   "execution_count": null,
   "metadata": {},
   "outputs": [],
   "source": [
    "Map_user_Year= Map_user_plot1(map_user,2020)"
   ]
  },
  {
   "cell_type": "code",
   "execution_count": null,
   "metadata": {},
   "outputs": [],
   "source": [
    "Mupq= Map_user_plot2(Map_user_Year,4)"
   ]
  },
  {
   "cell_type": "code",
   "execution_count": null,
   "metadata": {},
   "outputs": [],
   "source": [
    "Map_user_plot3(Mupq,\"West Bengal\")"
   ]
  },
  {
   "cell_type": "markdown",
   "metadata": {},
   "source": [
    "### top trans"
   ]
  },
  {
   "cell_type": "code",
   "execution_count": null,
   "metadata": {},
   "outputs": [],
   "source": [
    "Top_tran_ac_year=Transaction_amount_count_Year(top_transaction,2021)"
   ]
  },
  {
   "cell_type": "code",
   "execution_count": null,
   "metadata": {},
   "outputs": [],
   "source": [
    "Top_trans_plot_1(Top_tran_ac_year, \"West Bengal\")"
   ]
  },
  {
   "cell_type": "code",
   "execution_count": null,
   "metadata": {},
   "outputs": [],
   "source": [
    "Top_tran_ac_year_Q = Transaction_amount_count_Year_Quater(Top_tran_ac_year,3)"
   ]
  },
  {
   "cell_type": "markdown",
   "metadata": {},
   "source": [
    "### Top user"
   ]
  },
  {
   "cell_type": "code",
   "execution_count": null,
   "metadata": {},
   "outputs": [],
   "source": [
    "Tupy =Top_user_plot_1(top_user, 2020)"
   ]
  },
  {
   "cell_type": "code",
   "execution_count": null,
   "metadata": {},
   "outputs": [],
   "source": [
    "top_chart_tc(\"aggregated_transaction\")"
   ]
  },
  {
   "cell_type": "code",
   "execution_count": null,
   "metadata": {},
   "outputs": [],
   "source": [
    "top_chart_ta(\"aggregated_transaction\")"
   ]
  },
  {
   "cell_type": "code",
   "execution_count": null,
   "metadata": {},
   "outputs": [],
   "source": [
    "top_chart_ttta(\"map_transaction\")\n"
   ]
  },
  {
   "cell_type": "code",
   "execution_count": null,
   "metadata": {},
   "outputs": [],
   "source": [
    "top_chart_ltta(\"map_transaction\")\n"
   ]
  },
  {
   "cell_type": "code",
   "execution_count": null,
   "metadata": {},
   "outputs": [],
   "source": [
    "top_chart_appopens(\"map_user\", \"Tamil Nadu\")"
   ]
  },
  {
   "cell_type": "code",
   "execution_count": null,
   "metadata": {},
   "outputs": [],
   "source": [
    "top_chart_ru(\"top_user\")"
   ]
  }
 ],
 "metadata": {
  "kernelspec": {
   "display_name": ".venv",
   "language": "python",
   "name": "python3"
  },
  "language_info": {
   "codemirror_mode": {
    "name": "ipython",
    "version": 3
   },
   "file_extension": ".py",
   "mimetype": "text/x-python",
   "name": "python",
   "nbconvert_exporter": "python",
   "pygments_lexer": "ipython3",
   "version": "3.11.9"
  }
 },
 "nbformat": 4,
 "nbformat_minor": 2
}
